{
  "nbformat": 4,
  "nbformat_minor": 0,
  "metadata": {
    "colab": {
      "name": "cvm_2011_2022.ipynb",
      "provenance": [],
      "authorship_tag": "ABX9TyMzNJpUEG7gNcbi84VkhGw3"
    },
    "kernelspec": {
      "name": "python3",
      "display_name": "Python 3"
    },
    "language_info": {
      "name": "python"
    }
  },
  "cells": [
    {
      "cell_type": "markdown",
      "source": [
        "# CVM Demonstrações Financeiras\n",
        "***\n",
        "Este é um projeto de estudo pessoal com o objetivo de avançar nos conhecimentos de automação através da linguagem python. Para isso, foi proposto automatizar o download das demonstrações financeiras disponibilizadas pelo site da CVM http://dados.cvm.gov.br/dados/CIA_ABERTA/DOC/ITR/DADOS/.\n",
        "\n",
        "Projeto inspirado no canal do Youtube Código Quant - Finanças Quantitavas."
      ],
      "metadata": {
        "id": "X0WKFPA0aeTT"
      }
    },
    {
      "cell_type": "markdown",
      "source": [
        "## Importação\n",
        "***\n",
        "Nesta fase, além da instalação da biblioteca wget, foi realizada a importação do pandas, wget e zipfile, que são bibliotecas importantes para a realização do projeto."
      ],
      "metadata": {
        "id": "LGvp4nK7banS"
      }
    },
    {
      "cell_type": "code",
      "execution_count": 1,
      "metadata": {
        "colab": {
          "base_uri": "https://localhost:8080/"
        },
        "id": "om3dIdh1ZKiY",
        "outputId": "f54cfa9c-bef2-426f-fcaa-8a8d399fe98e"
      },
      "outputs": [
        {
          "output_type": "stream",
          "name": "stdout",
          "text": [
            "Looking in indexes: https://pypi.org/simple, https://us-python.pkg.dev/colab-wheels/public/simple/\n",
            "Collecting wget\n",
            "  Downloading wget-3.2.zip (10 kB)\n",
            "Building wheels for collected packages: wget\n",
            "  Building wheel for wget (setup.py) ... \u001b[?25l\u001b[?25hdone\n",
            "  Created wheel for wget: filename=wget-3.2-py3-none-any.whl size=9675 sha256=74fdcca776d4d207778b47e38585eb20825725b61dfaf9d4d37f249f29f59d4a\n",
            "  Stored in directory: /root/.cache/pip/wheels/a1/b6/7c/0e63e34eb06634181c63adacca38b79ff8f35c37e3c13e3c02\n",
            "Successfully built wget\n",
            "Installing collected packages: wget\n",
            "Successfully installed wget-3.2\n"
          ]
        }
      ],
      "source": [
        "# INSTALAÇÃO WGET\n",
        "!pip install wget"
      ]
    },
    {
      "cell_type": "code",
      "source": [
        "# IMPORTAÇÃO BIBLIOTECAS\n",
        "import pandas as pd\n",
        "import wget\n",
        "from zipfile import ZipFile"
      ],
      "metadata": {
        "id": "h6VCfij9aZjx"
      },
      "execution_count": 2,
      "outputs": []
    },
    {
      "cell_type": "code",
      "source": [
        "# URL DADOS CVM\n",
        "uri = 'http://dados.cvm.gov.br/dados/CIA_ABERTA/DOC/ITR/DADOS/'"
      ],
      "metadata": {
        "id": "OJFvWtzwbkrL"
      },
      "execution_count": 3,
      "outputs": []
    },
    {
      "cell_type": "markdown",
      "source": [
        "## Laços de repetição\n",
        "***\n",
        "Primeiramente, criei um laço percorrendo todos os arquivos .zip do site da CVM. A intenção é que o laço retorne todos os nomes dos arquivos, ano após ano, para depois colocar dentro de uma lista e utilizar as bibliotecas wget e ZipFile para baixar e extrair. Porém, notei que faltavam os arquivos .zip dos anos 2018 e 2021, por isso utilizei o comando remove para remover o nome dos arquivos inexistentes."
      ],
      "metadata": {
        "id": "Q8C7Y65XX0Ba"
      }
    },
    {
      "cell_type": "code",
      "source": [
        "# LAÇO DE REPETIÇÃO ARQUIVOS DE 2011 A 2022, EXCETO 2018 E 2021\n",
        "arquivos = list()\n",
        "\n",
        "for i in range(2011, 2023):\n",
        "  arquivos.append('itr_cia_aberta_{}.zip'.format(i))\n",
        "\n",
        "arquivos.remove('itr_cia_aberta_2018.zip')\n",
        "arquivos.remove('itr_cia_aberta_2021.zip')\n",
        "arquivos"
      ],
      "metadata": {
        "colab": {
          "base_uri": "https://localhost:8080/"
        },
        "id": "HPA9pokBckKC",
        "outputId": "1534ad88-3ed5-4693-8e55-ebdf50c038f4"
      },
      "execution_count": 24,
      "outputs": [
        {
          "output_type": "execute_result",
          "data": {
            "text/plain": [
              "['itr_cia_aberta_2011.zip',\n",
              " 'itr_cia_aberta_2012.zip',\n",
              " 'itr_cia_aberta_2013.zip',\n",
              " 'itr_cia_aberta_2014.zip',\n",
              " 'itr_cia_aberta_2015.zip',\n",
              " 'itr_cia_aberta_2016.zip',\n",
              " 'itr_cia_aberta_2017.zip',\n",
              " 'itr_cia_aberta_2019.zip',\n",
              " 'itr_cia_aberta_2020.zip',\n",
              " 'itr_cia_aberta_2022.zip']"
            ]
          },
          "metadata": {},
          "execution_count": 24
        }
      ]
    },
    {
      "cell_type": "code",
      "source": [
        "# LAÇO PARA BAIXAR OS ARQUIVOS .ZIP\n",
        "for j in arquivos:\n",
        "  wget.download(uri+j)"
      ],
      "metadata": {
        "id": "P-s8k4hpcnrT"
      },
      "execution_count": 25,
      "outputs": []
    },
    {
      "cell_type": "code",
      "source": [
        "# LAÇO PARA EXTRAIR OS ARQUIVOS .ZIP\n",
        "for j in arquivos:\n",
        "  ZipFile(j, 'r').extractall('CVM')"
      ],
      "metadata": {
        "id": "M0hL7u4ldjE1"
      },
      "execution_count": 26,
      "outputs": []
    },
    {
      "cell_type": "markdown",
      "source": [
        "## Concatenação\n",
        "***\n",
        "Após baixar e extrair todos os arquivos, a intenção foi concatenar todos eles em um DataFrame para acesso dos dados. A princípio, tentei utilizar a mesma lógica do laço anterior, percorrendo ano e nome do arquivo. Porém, não foi possível pois haviam arquivos que não estavam no diretório. Dessa forma, utilizando a biblioteca os, eu percorri todos os arquivos extraídos e coloquei seus nomes em uma lista para que no próximo passo fosse possível concatenar todos os arquivos através de um laço."
      ],
      "metadata": {
        "id": "SBFnxfG2Y9VH"
      }
    },
    {
      "cell_type": "code",
      "source": [
        "# IMPORTAÇÃO DA BIBLIOTECA OS E LISTA DE TODOS OS ARQUIVOS EXTRAÍDOS\n",
        "import os\n",
        "\n",
        "for _, _, arquivo in os.walk('./CVM'):\n",
        "    lista = arquivo\n",
        "    print(lista)"
      ],
      "metadata": {
        "colab": {
          "base_uri": "https://localhost:8080/"
        },
        "id": "NdyxzknUHW9p",
        "outputId": "6b4ca9fc-1ec3-4574-8430-18f2477872ac"
      },
      "execution_count": 67,
      "outputs": [
        {
          "output_type": "stream",
          "name": "stdout",
          "text": [
            "['itr_cia_aberta_DVA_ind_2015.csv', 'itr_cia_aberta_DRA_con_2012.csv', 'itr_cia_aberta_DFC_MI_con_2015.csv', 'itr_cia_aberta_BPA_ind_2020.csv', 'itr_cia_aberta_DFC_MD_ind_2015.csv', 'itr_cia_aberta_DFC_MI_con_2011.csv', 'itr_cia_aberta_BPP_ind_2012.csv', 'itr_cia_aberta_BPP_con_2016.csv', 'itr_cia_aberta_DRA_con_2019.csv', 'itr_cia_aberta_DRE_con_2016.csv', 'itr_cia_aberta_BPP_con_2019.csv', 'itr_cia_aberta_DRA_con_2020.csv', 'itr_cia_aberta_BPA_ind_2016.csv', 'itr_cia_aberta_DFC_MD_con_2019.csv', 'itr_cia_aberta_DFC_MD_ind_2013.csv', 'itr_cia_aberta_DRA_con_2022.csv', 'itr_cia_aberta_DRA_con_2016.csv', 'itr_cia_aberta_DFC_MI_con_2014.csv', 'itr_cia_aberta_BPP_con_2012.csv', 'itr_cia_aberta_DVA_con_2013.csv', 'itr_cia_aberta_DRE_ind_2019.csv', 'itr_cia_aberta_DRE_ind_2017.csv', 'itr_cia_aberta_DMPL_con_2011.csv', 'itr_cia_aberta_DRE_con_2012.csv', 'itr_cia_aberta_BPA_con_2015.csv', 'itr_cia_aberta_DRA_con_2015.csv', 'itr_cia_aberta_DRE_ind_2022.csv', 'itr_cia_aberta_BPA_con_2022.csv', 'itr_cia_aberta_BPA_ind_2017.csv', 'itr_cia_aberta_DMPL_ind_2011.csv', 'itr_cia_aberta_2017.csv', 'itr_cia_aberta_DMPL_con_2022.csv', 'itr_cia_aberta_DFC_MD_ind_2011.csv', 'itr_cia_aberta_DVA_ind_2022.csv', 'itr_cia_aberta_BPP_ind_2013.csv', 'itr_cia_aberta_BPP_ind_2011.csv', 'itr_cia_aberta_DFC_MI_ind_2017.csv', 'itr_cia_aberta_DRE_con_2015.csv', 'itr_cia_aberta_DVA_ind_2011.csv', 'itr_cia_aberta_DMPL_con_2016.csv', 'itr_cia_aberta_DVA_con_2014.csv', 'itr_cia_aberta_2019.csv', 'itr_cia_aberta_2014.csv', 'itr_cia_aberta_DFC_MI_con_2020.csv', 'itr_cia_aberta_DRE_con_2013.csv', 'itr_cia_aberta_BPP_ind_2020.csv', 'itr_cia_aberta_BPP_con_2017.csv', 'itr_cia_aberta_DFC_MD_ind_2022.csv', 'itr_cia_aberta_DMPL_ind_2014.csv', 'itr_cia_aberta_DFC_MI_ind_2015.csv', 'itr_cia_aberta_DFC_MD_con_2015.csv', 'itr_cia_aberta_2013.csv', 'itr_cia_aberta_BPA_ind_2011.csv', 'itr_cia_aberta_BPA_con_2014.csv', 'itr_cia_aberta_DFC_MI_ind_2022.csv', 'itr_cia_aberta_DRA_con_2013.csv', 'itr_cia_aberta_DFC_MI_ind_2014.csv', 'itr_cia_aberta_2020.csv', 'itr_cia_aberta_DRE_con_2011.csv', 'itr_cia_aberta_DMPL_con_2012.csv', 'itr_cia_aberta_DFC_MI_ind_2016.csv', 'itr_cia_aberta_DVA_con_2016.csv', 'itr_cia_aberta_DRA_ind_2012.csv', 'itr_cia_aberta_BPA_con_2012.csv', 'itr_cia_aberta_DFC_MD_con_2012.csv', 'itr_cia_aberta_DRA_ind_2019.csv', 'itr_cia_aberta_DRA_ind_2014.csv', 'itr_cia_aberta_DFC_MI_ind_2020.csv', 'itr_cia_aberta_DVA_con_2017.csv', 'itr_cia_aberta_DFC_MI_ind_2012.csv', 'itr_cia_aberta_DFC_MI_con_2013.csv', 'itr_cia_aberta_2016.csv', 'itr_cia_aberta_2012.csv', 'itr_cia_aberta_DFC_MI_con_2022.csv', 'itr_cia_aberta_DFC_MD_ind_2012.csv', 'itr_cia_aberta_DFC_MI_ind_2011.csv', 'itr_cia_aberta_DRE_con_2020.csv', 'itr_cia_aberta_DRA_ind_2022.csv', 'itr_cia_aberta_DRE_ind_2013.csv', 'itr_cia_aberta_DMPL_con_2020.csv', 'itr_cia_aberta_DRE_ind_2020.csv', 'itr_cia_aberta_BPP_con_2014.csv', 'itr_cia_aberta_DFC_MD_con_2016.csv', 'itr_cia_aberta_DFC_MD_ind_2020.csv', 'itr_cia_aberta_DVA_con_2012.csv', 'itr_cia_aberta_BPP_con_2015.csv', 'itr_cia_aberta_BPA_ind_2014.csv', 'itr_cia_aberta_DRA_ind_2015.csv', 'itr_cia_aberta_DFC_MI_con_2017.csv', 'itr_cia_aberta_DVA_ind_2014.csv', 'itr_cia_aberta_BPP_con_2020.csv', 'itr_cia_aberta_DMPL_ind_2013.csv', 'itr_cia_aberta_BPA_ind_2019.csv', 'itr_cia_aberta_2011.csv', 'itr_cia_aberta_BPP_ind_2017.csv', 'itr_cia_aberta_BPP_ind_2019.csv', 'itr_cia_aberta_DRE_con_2022.csv', 'itr_cia_aberta_DFC_MD_ind_2019.csv', 'itr_cia_aberta_DVA_ind_2012.csv', 'itr_cia_aberta_DMPL_con_2015.csv', 'itr_cia_aberta_DRE_ind_2016.csv', 'itr_cia_aberta_DMPL_ind_2015.csv', 'itr_cia_aberta_2015.csv', 'itr_cia_aberta_BPP_ind_2015.csv', 'itr_cia_aberta_DRE_con_2019.csv', 'itr_cia_aberta_BPA_con_2019.csv', 'itr_cia_aberta_DRA_con_2011.csv', 'itr_cia_aberta_DFC_MD_con_2011.csv', 'itr_cia_aberta_BPP_ind_2014.csv', 'itr_cia_aberta_DFC_MD_ind_2014.csv', 'itr_cia_aberta_BPA_con_2017.csv', 'itr_cia_aberta_DVA_con_2022.csv', 'itr_cia_aberta_DRE_con_2014.csv', 'itr_cia_aberta_DRE_ind_2011.csv', 'itr_cia_aberta_DFC_MD_con_2013.csv', 'itr_cia_aberta_DMPL_ind_2019.csv', 'itr_cia_aberta_DFC_MI_con_2016.csv', 'itr_cia_aberta_DFC_MI_ind_2019.csv', 'itr_cia_aberta_DMPL_ind_2012.csv', 'itr_cia_aberta_DFC_MD_ind_2017.csv', 'itr_cia_aberta_DFC_MI_con_2012.csv', 'itr_cia_aberta_DVA_con_2011.csv', 'itr_cia_aberta_DRA_ind_2017.csv', 'itr_cia_aberta_DFC_MD_con_2020.csv', 'itr_cia_aberta_DRA_con_2017.csv', 'itr_cia_aberta_DVA_ind_2016.csv', 'itr_cia_aberta_DMPL_ind_2022.csv', 'itr_cia_aberta_DFC_MD_con_2017.csv', 'itr_cia_aberta_DFC_MD_ind_2016.csv', 'itr_cia_aberta_DRE_con_2017.csv', 'itr_cia_aberta_BPA_ind_2013.csv', 'itr_cia_aberta_DRE_ind_2014.csv', 'itr_cia_aberta_DMPL_con_2013.csv', 'itr_cia_aberta_DRA_ind_2013.csv', 'itr_cia_aberta_DVA_ind_2013.csv', 'itr_cia_aberta_DRA_ind_2011.csv', 'itr_cia_aberta_DRE_ind_2015.csv', 'itr_cia_aberta_DFC_MI_con_2019.csv', 'itr_cia_aberta_BPA_ind_2015.csv', 'itr_cia_aberta_DRA_con_2014.csv', 'itr_cia_aberta_BPA_con_2013.csv', 'itr_cia_aberta_DVA_con_2019.csv', 'itr_cia_aberta_DRA_ind_2020.csv', 'itr_cia_aberta_BPP_con_2013.csv', 'itr_cia_aberta_DMPL_con_2014.csv', 'itr_cia_aberta_DMPL_ind_2017.csv', 'itr_cia_aberta_2022.csv', 'itr_cia_aberta_BPA_ind_2012.csv', 'itr_cia_aberta_DVA_con_2015.csv', 'itr_cia_aberta_DFC_MD_con_2022.csv', 'itr_cia_aberta_DFC_MD_con_2014.csv', 'itr_cia_aberta_BPP_con_2022.csv', 'itr_cia_aberta_DMPL_con_2017.csv', 'itr_cia_aberta_BPA_ind_2022.csv', 'itr_cia_aberta_BPA_con_2020.csv', 'itr_cia_aberta_BPP_con_2011.csv', 'itr_cia_aberta_BPA_con_2011.csv', 'itr_cia_aberta_DFC_MI_ind_2013.csv', 'itr_cia_aberta_BPP_ind_2016.csv', 'itr_cia_aberta_BPA_con_2016.csv', 'itr_cia_aberta_BPP_ind_2022.csv', 'itr_cia_aberta_DRA_ind_2016.csv', 'itr_cia_aberta_DRE_ind_2012.csv', 'itr_cia_aberta_DMPL_ind_2016.csv', 'itr_cia_aberta_DVA_ind_2017.csv']\n"
          ]
        }
      ]
    },
    {
      "cell_type": "code",
      "source": [
        "# DATAFRAME E CONCATENAÇÃO\n",
        "df = pd.DataFrame()\n",
        "for i in lista:\n",
        "  df = pd.concat([df, pd.read_csv('./CVM/'+i, sep = ';', decimal = ',', encoding = 'ISO-8859=1')])"
      ],
      "metadata": {
        "id": "QUDZRW3dKHAE"
      },
      "execution_count": 76,
      "outputs": []
    },
    {
      "cell_type": "markdown",
      "source": [
        "## Dataframe salvo com sucesso\n",
        "***\n",
        "Depois de concatenado o dataframe, utilizei a função to_csv para salvar o novo DataFrame completo com todos os dados de 2011 a 2022.\n",
        "\n",
        "Lista de dados do dataframe:\n",
        "- DF Individual - Demonstração de Valor Adicionado\n",
        "- DF Consolidado - Demonstração de Resultado Abrangente\n",
        "- DF Consolidado - Demonstração do Fluxo de Caixa (Método Indireto)\n",
        "- DF Individual - Balanço Patrimonial Ativo\n",
        "- DF Individual - Demonstração do Fluxo de Caixa (Método Direto)\n",
        "- DF Individual - Balanço Patrimonial Passivo\n",
        "- DF Consolidado - Balanço Patrimonial Passivo\n",
        "- DF Consolidado - Demonstração do Resultado\n",
        "- DF Consolidado - Demonstração do Fluxo de Caixa (Método Direto)\n",
        "- DF Consolidado - Demonstração de Valor Adicionado\n",
        "- DF Individual - Demonstração do Resultado\n",
        "- DF Consolidado - Demonstração das Mutações do Patrimônio Líquido\n",
        "- DF Consolidado - Balanço Patrimonial Ativo\n",
        "- DF Individual - Demonstração das Mutações do Patrimônio Líquido\n",
        "- DF Individual - Demonstração do Fluxo de Caixa (Método Indireto)\n",
        "- DF Individual - Demonstração de Resultado Abrangente"
      ],
      "metadata": {
        "id": "vxgnZJzEZ5X8"
      }
    },
    {
      "cell_type": "code",
      "source": [
        "# SALVANDO ARQUIVO CSV\n",
        "df.to_csv('cvm_2011-2022', index = False)"
      ],
      "metadata": {
        "id": "pxVCe4DQRta0"
      },
      "execution_count": 81,
      "outputs": []
    },
    {
      "cell_type": "code",
      "source": [
        "# DATAFRAME COMPLETO\n",
        "df.head()"
      ],
      "metadata": {
        "colab": {
          "base_uri": "https://localhost:8080/",
          "height": 530
        },
        "id": "raY7wtuVXHpt",
        "outputId": "6cb7e77b-7cde-4860-d5e6-54ba96c9454b"
      },
      "execution_count": 84,
      "outputs": [
        {
          "output_type": "execute_result",
          "data": {
            "text/plain": [
              "             CNPJ_CIA    DT_REFER  VERSAO        DENOM_CIA  CD_CVM  \\\n",
              "0  00.000.000/0001-91  2015-03-31       1  BCO BRASIL S.A.    1023   \n",
              "1  00.000.000/0001-91  2015-03-31       1  BCO BRASIL S.A.    1023   \n",
              "2  00.000.000/0001-91  2015-03-31       1  BCO BRASIL S.A.    1023   \n",
              "3  00.000.000/0001-91  2015-03-31       1  BCO BRASIL S.A.    1023   \n",
              "4  00.000.000/0001-91  2015-03-31       1  BCO BRASIL S.A.    1023   \n",
              "\n",
              "                                          GRUPO_DFP MOEDA ESCALA_MOEDA  \\\n",
              "0  DF Individual - Demonstração de Valor Adicionado  REAL          MIL   \n",
              "1  DF Individual - Demonstração de Valor Adicionado  REAL          MIL   \n",
              "2  DF Individual - Demonstração de Valor Adicionado  REAL          MIL   \n",
              "3  DF Individual - Demonstração de Valor Adicionado  REAL          MIL   \n",
              "4  DF Individual - Demonstração de Valor Adicionado  REAL          MIL   \n",
              "\n",
              "  ORDEM_EXERC DT_INI_EXERC DT_FIM_EXERC CD_CONTA                  DS_CONTA  \\\n",
              "0   PENÚLTIMO   2014-01-01   2014-03-31     7.01                  Receitas   \n",
              "1      ÚLTIMO   2015-01-01   2015-03-31     7.01                  Receitas   \n",
              "2   PENÚLTIMO   2014-01-01   2014-03-31  7.01.01  Intermediação Financeira   \n",
              "3      ÚLTIMO   2015-01-01   2015-03-31  7.01.01  Intermediação Financeira   \n",
              "4   PENÚLTIMO   2014-01-01   2014-03-31  7.01.02     Prestação de Serviços   \n",
              "\n",
              "              VL_CONTA ST_CONTA_FIXA COLUNA_DF CATEG_DOC  ID_DOC DT_RECEB  \\\n",
              "0  29492934.0000000000             S       NaN       NaN     NaN      NaN   \n",
              "1  44365804.0000000000             S       NaN       NaN     NaN      NaN   \n",
              "2  28664624.0000000000             S       NaN       NaN     NaN      NaN   \n",
              "3  46360828.0000000000             S       NaN       NaN     NaN      NaN   \n",
              "4   3889001.0000000000             S       NaN       NaN     NaN      NaN   \n",
              "\n",
              "  LINK_DOC  \n",
              "0      NaN  \n",
              "1      NaN  \n",
              "2      NaN  \n",
              "3      NaN  \n",
              "4      NaN  "
            ],
            "text/html": [
              "\n",
              "  <div id=\"df-4d418b0f-9ac6-4a80-a623-5ded5802db0b\">\n",
              "    <div class=\"colab-df-container\">\n",
              "      <div>\n",
              "<style scoped>\n",
              "    .dataframe tbody tr th:only-of-type {\n",
              "        vertical-align: middle;\n",
              "    }\n",
              "\n",
              "    .dataframe tbody tr th {\n",
              "        vertical-align: top;\n",
              "    }\n",
              "\n",
              "    .dataframe thead th {\n",
              "        text-align: right;\n",
              "    }\n",
              "</style>\n",
              "<table border=\"1\" class=\"dataframe\">\n",
              "  <thead>\n",
              "    <tr style=\"text-align: right;\">\n",
              "      <th></th>\n",
              "      <th>CNPJ_CIA</th>\n",
              "      <th>DT_REFER</th>\n",
              "      <th>VERSAO</th>\n",
              "      <th>DENOM_CIA</th>\n",
              "      <th>CD_CVM</th>\n",
              "      <th>GRUPO_DFP</th>\n",
              "      <th>MOEDA</th>\n",
              "      <th>ESCALA_MOEDA</th>\n",
              "      <th>ORDEM_EXERC</th>\n",
              "      <th>DT_INI_EXERC</th>\n",
              "      <th>DT_FIM_EXERC</th>\n",
              "      <th>CD_CONTA</th>\n",
              "      <th>DS_CONTA</th>\n",
              "      <th>VL_CONTA</th>\n",
              "      <th>ST_CONTA_FIXA</th>\n",
              "      <th>COLUNA_DF</th>\n",
              "      <th>CATEG_DOC</th>\n",
              "      <th>ID_DOC</th>\n",
              "      <th>DT_RECEB</th>\n",
              "      <th>LINK_DOC</th>\n",
              "    </tr>\n",
              "  </thead>\n",
              "  <tbody>\n",
              "    <tr>\n",
              "      <th>0</th>\n",
              "      <td>00.000.000/0001-91</td>\n",
              "      <td>2015-03-31</td>\n",
              "      <td>1</td>\n",
              "      <td>BCO BRASIL S.A.</td>\n",
              "      <td>1023</td>\n",
              "      <td>DF Individual - Demonstração de Valor Adicionado</td>\n",
              "      <td>REAL</td>\n",
              "      <td>MIL</td>\n",
              "      <td>PENÚLTIMO</td>\n",
              "      <td>2014-01-01</td>\n",
              "      <td>2014-03-31</td>\n",
              "      <td>7.01</td>\n",
              "      <td>Receitas</td>\n",
              "      <td>29492934.0000000000</td>\n",
              "      <td>S</td>\n",
              "      <td>NaN</td>\n",
              "      <td>NaN</td>\n",
              "      <td>NaN</td>\n",
              "      <td>NaN</td>\n",
              "      <td>NaN</td>\n",
              "    </tr>\n",
              "    <tr>\n",
              "      <th>1</th>\n",
              "      <td>00.000.000/0001-91</td>\n",
              "      <td>2015-03-31</td>\n",
              "      <td>1</td>\n",
              "      <td>BCO BRASIL S.A.</td>\n",
              "      <td>1023</td>\n",
              "      <td>DF Individual - Demonstração de Valor Adicionado</td>\n",
              "      <td>REAL</td>\n",
              "      <td>MIL</td>\n",
              "      <td>ÚLTIMO</td>\n",
              "      <td>2015-01-01</td>\n",
              "      <td>2015-03-31</td>\n",
              "      <td>7.01</td>\n",
              "      <td>Receitas</td>\n",
              "      <td>44365804.0000000000</td>\n",
              "      <td>S</td>\n",
              "      <td>NaN</td>\n",
              "      <td>NaN</td>\n",
              "      <td>NaN</td>\n",
              "      <td>NaN</td>\n",
              "      <td>NaN</td>\n",
              "    </tr>\n",
              "    <tr>\n",
              "      <th>2</th>\n",
              "      <td>00.000.000/0001-91</td>\n",
              "      <td>2015-03-31</td>\n",
              "      <td>1</td>\n",
              "      <td>BCO BRASIL S.A.</td>\n",
              "      <td>1023</td>\n",
              "      <td>DF Individual - Demonstração de Valor Adicionado</td>\n",
              "      <td>REAL</td>\n",
              "      <td>MIL</td>\n",
              "      <td>PENÚLTIMO</td>\n",
              "      <td>2014-01-01</td>\n",
              "      <td>2014-03-31</td>\n",
              "      <td>7.01.01</td>\n",
              "      <td>Intermediação Financeira</td>\n",
              "      <td>28664624.0000000000</td>\n",
              "      <td>S</td>\n",
              "      <td>NaN</td>\n",
              "      <td>NaN</td>\n",
              "      <td>NaN</td>\n",
              "      <td>NaN</td>\n",
              "      <td>NaN</td>\n",
              "    </tr>\n",
              "    <tr>\n",
              "      <th>3</th>\n",
              "      <td>00.000.000/0001-91</td>\n",
              "      <td>2015-03-31</td>\n",
              "      <td>1</td>\n",
              "      <td>BCO BRASIL S.A.</td>\n",
              "      <td>1023</td>\n",
              "      <td>DF Individual - Demonstração de Valor Adicionado</td>\n",
              "      <td>REAL</td>\n",
              "      <td>MIL</td>\n",
              "      <td>ÚLTIMO</td>\n",
              "      <td>2015-01-01</td>\n",
              "      <td>2015-03-31</td>\n",
              "      <td>7.01.01</td>\n",
              "      <td>Intermediação Financeira</td>\n",
              "      <td>46360828.0000000000</td>\n",
              "      <td>S</td>\n",
              "      <td>NaN</td>\n",
              "      <td>NaN</td>\n",
              "      <td>NaN</td>\n",
              "      <td>NaN</td>\n",
              "      <td>NaN</td>\n",
              "    </tr>\n",
              "    <tr>\n",
              "      <th>4</th>\n",
              "      <td>00.000.000/0001-91</td>\n",
              "      <td>2015-03-31</td>\n",
              "      <td>1</td>\n",
              "      <td>BCO BRASIL S.A.</td>\n",
              "      <td>1023</td>\n",
              "      <td>DF Individual - Demonstração de Valor Adicionado</td>\n",
              "      <td>REAL</td>\n",
              "      <td>MIL</td>\n",
              "      <td>PENÚLTIMO</td>\n",
              "      <td>2014-01-01</td>\n",
              "      <td>2014-03-31</td>\n",
              "      <td>7.01.02</td>\n",
              "      <td>Prestação de Serviços</td>\n",
              "      <td>3889001.0000000000</td>\n",
              "      <td>S</td>\n",
              "      <td>NaN</td>\n",
              "      <td>NaN</td>\n",
              "      <td>NaN</td>\n",
              "      <td>NaN</td>\n",
              "      <td>NaN</td>\n",
              "    </tr>\n",
              "  </tbody>\n",
              "</table>\n",
              "</div>\n",
              "      <button class=\"colab-df-convert\" onclick=\"convertToInteractive('df-4d418b0f-9ac6-4a80-a623-5ded5802db0b')\"\n",
              "              title=\"Convert this dataframe to an interactive table.\"\n",
              "              style=\"display:none;\">\n",
              "        \n",
              "  <svg xmlns=\"http://www.w3.org/2000/svg\" height=\"24px\"viewBox=\"0 0 24 24\"\n",
              "       width=\"24px\">\n",
              "    <path d=\"M0 0h24v24H0V0z\" fill=\"none\"/>\n",
              "    <path d=\"M18.56 5.44l.94 2.06.94-2.06 2.06-.94-2.06-.94-.94-2.06-.94 2.06-2.06.94zm-11 1L8.5 8.5l.94-2.06 2.06-.94-2.06-.94L8.5 2.5l-.94 2.06-2.06.94zm10 10l.94 2.06.94-2.06 2.06-.94-2.06-.94-.94-2.06-.94 2.06-2.06.94z\"/><path d=\"M17.41 7.96l-1.37-1.37c-.4-.4-.92-.59-1.43-.59-.52 0-1.04.2-1.43.59L10.3 9.45l-7.72 7.72c-.78.78-.78 2.05 0 2.83L4 21.41c.39.39.9.59 1.41.59.51 0 1.02-.2 1.41-.59l7.78-7.78 2.81-2.81c.8-.78.8-2.07 0-2.86zM5.41 20L4 18.59l7.72-7.72 1.47 1.35L5.41 20z\"/>\n",
              "  </svg>\n",
              "      </button>\n",
              "      \n",
              "  <style>\n",
              "    .colab-df-container {\n",
              "      display:flex;\n",
              "      flex-wrap:wrap;\n",
              "      gap: 12px;\n",
              "    }\n",
              "\n",
              "    .colab-df-convert {\n",
              "      background-color: #E8F0FE;\n",
              "      border: none;\n",
              "      border-radius: 50%;\n",
              "      cursor: pointer;\n",
              "      display: none;\n",
              "      fill: #1967D2;\n",
              "      height: 32px;\n",
              "      padding: 0 0 0 0;\n",
              "      width: 32px;\n",
              "    }\n",
              "\n",
              "    .colab-df-convert:hover {\n",
              "      background-color: #E2EBFA;\n",
              "      box-shadow: 0px 1px 2px rgba(60, 64, 67, 0.3), 0px 1px 3px 1px rgba(60, 64, 67, 0.15);\n",
              "      fill: #174EA6;\n",
              "    }\n",
              "\n",
              "    [theme=dark] .colab-df-convert {\n",
              "      background-color: #3B4455;\n",
              "      fill: #D2E3FC;\n",
              "    }\n",
              "\n",
              "    [theme=dark] .colab-df-convert:hover {\n",
              "      background-color: #434B5C;\n",
              "      box-shadow: 0px 1px 3px 1px rgba(0, 0, 0, 0.15);\n",
              "      filter: drop-shadow(0px 1px 2px rgba(0, 0, 0, 0.3));\n",
              "      fill: #FFFFFF;\n",
              "    }\n",
              "  </style>\n",
              "\n",
              "      <script>\n",
              "        const buttonEl =\n",
              "          document.querySelector('#df-4d418b0f-9ac6-4a80-a623-5ded5802db0b button.colab-df-convert');\n",
              "        buttonEl.style.display =\n",
              "          google.colab.kernel.accessAllowed ? 'block' : 'none';\n",
              "\n",
              "        async function convertToInteractive(key) {\n",
              "          const element = document.querySelector('#df-4d418b0f-9ac6-4a80-a623-5ded5802db0b');\n",
              "          const dataTable =\n",
              "            await google.colab.kernel.invokeFunction('convertToInteractive',\n",
              "                                                     [key], {});\n",
              "          if (!dataTable) return;\n",
              "\n",
              "          const docLinkHtml = 'Like what you see? Visit the ' +\n",
              "            '<a target=\"_blank\" href=https://colab.research.google.com/notebooks/data_table.ipynb>data table notebook</a>'\n",
              "            + ' to learn more about interactive tables.';\n",
              "          element.innerHTML = '';\n",
              "          dataTable['output_type'] = 'display_data';\n",
              "          await google.colab.output.renderOutput(dataTable, element);\n",
              "          const docLink = document.createElement('div');\n",
              "          docLink.innerHTML = docLinkHtml;\n",
              "          element.appendChild(docLink);\n",
              "        }\n",
              "      </script>\n",
              "    </div>\n",
              "  </div>\n",
              "  "
            ]
          },
          "metadata": {},
          "execution_count": 84
        }
      ]
    }
  ]
}